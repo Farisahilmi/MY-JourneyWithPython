{
 "cells": [
  {
   "cell_type": "markdown",
   "id": "587934b5",
   "metadata": {},
   "source": [
    "Contidionals di python digunakan mengeksekusi kode berdasarkan kondidi tertentu, \n",
    "berikut adalah konsep utama terkait conditionals di python"
   ]
  },
  {
   "cell_type": "code",
   "execution_count": null,
   "id": "ba9ca995",
   "metadata": {},
   "outputs": [],
   "source": [
    "\"\"\"\n",
    "1.if Statement\n",
    "digunakan untuk mengeksekusi blok kode jika kondidi yang diberikan benar (True)\n",
    "\"\"\"\n",
    "if kondisi:\n",
    "    #kode yang dijalankan jika kondidi True"
   ]
  },
  {
   "cell_type": "code",
   "execution_count": null,
   "id": "10b81a70",
   "metadata": {},
   "outputs": [],
   "source": [
    "\"\"\"\n",
    "2.else Statement\n",
    "jika kondisi pada if tidak terpenuhi (False), blok kode pada else akan di eksekusi\n",
    "\"\"\"\n",
    "\n",
    "if kondisi:\n",
    "    #Kode Jika True\n",
    "else:\n",
    "    #kode jika False"
   ]
  },
  {
   "cell_type": "code",
   "execution_count": null,
   "id": "f0e5bf62",
   "metadata": {},
   "outputs": [],
   "source": [
    "\"\"\"\n",
    "3.elif Statement\n",
    "digunakan untuk mengevaluasi kondisi lain jika kondisi if awal tidak terpenuhi\n",
    "\"\"\"\n",
    "\n",
    "if kondisi_pertama:\n",
    "    #kode jika kondisi pertama True\n",
    "elif kondisi_kedua:\n",
    "    #kode jika kondisi kedua True\n",
    "else:\n",
    "    #kode jika semua kondisi False\n"
   ]
  },
  {
   "cell_type": "code",
   "execution_count": null,
   "id": "c3e4474a",
   "metadata": {},
   "outputs": [],
   "source": [
    "\"\"\"\n",
    "4.Nested Conditionals\n",
    "kondisi juga bisa bersarang di dalam if,elif, atau else\n",
    "\"\"\"\n",
    "\n",
    "if kondisi_pertama:\n",
    "    if kondisi_kedua:\n",
    "        #kode jika kedua kondisi True\n",
    "    else:\n",
    "        #kode jika kondisi pertama True dan kondisi kedua False\n",
    "else:\n",
    "    #kode jika kondisi pertama False"
   ]
  },
  {
   "cell_type": "code",
   "execution_count": null,
   "id": "5df267c2",
   "metadata": {},
   "outputs": [],
   "source": [
    "\"\"\"\n",
    "5.Ternary Conditionals\n",
    "untuk kondisi sederhana, bisa menggunakan operator ternary\n",
    "\"\"\"\n",
    "\n",
    "x = nilai_true if kondisi else nilai_false"
   ]
  },
  {
   "cell_type": "code",
   "execution_count": null,
   "id": "11483240",
   "metadata": {},
   "outputs": [],
   "source": [
    "\"\"\"\n",
    "6.Logical Operators\n",
    "bisa menggunakan operator logika untuk menggabungkan beberapa kondisi\n",
    "\n",
    "'and' : mengembalikan True jika kedua kondisi benar\n",
    "'or'  : mengembalikan True jika salah satu kondisi benar\n",
    "'not' : mengembalikan nilai dari kondisi\n",
    "\"\"\"\n",
    "\n",
    "age = 20\n",
    "has_permission = True\n",
    "\n",
    "if age >= 18 and has_permission:\n",
    "    print(\"you can enter.\")\n",
    "else:\n",
    "    print(\"You cannot enter.\")\n"
   ]
  },
  {
   "cell_type": "code",
   "execution_count": null,
   "id": "fcc639d7",
   "metadata": {},
   "outputs": [],
   "source": [
    "\"\"\"\n",
    "7.Short-circuiting\n",
    "pada 'and' dan 'or', python akan berhenti mengevaluasi kondisi lebih lanjut jika sudah ditemukan hasil yang pasti\n",
    "\n",
    "pada 'and', jika kondisi pertama False, maka python tidak akan mengevaluasi kondisi kedua\n",
    "pada 'or', jika kondisi pertama True, maka python tidak akan mengevaluasi kondidi kedua\n",
    "\"\"\"\n",
    "\n",
    "#pada kondisi ini, python akan berhenti di kondisi pertama karena False\n",
    "if False and (5 > 3):\n",
    "    print(\"This will not print.\")"
   ]
  },
  {
   "cell_type": "code",
   "execution_count": null,
   "id": "a089383b",
   "metadata": {},
   "outputs": [],
   "source": [
    "\"\"\"\n",
    "8.Chained Conditionals\n",
    "bisa memeriksa lebih dari satu kondisi dengan menggunakan tanda perbandingan yang berurutan\n",
    "\"\"\"\n",
    "\n",
    "number = 10\n",
    "if 1<= number <= 20:\n",
    "    print(\"number is berween 1 and 20.\")"
   ]
  },
  {
   "cell_type": "code",
   "execution_count": null,
   "id": "98a99475",
   "metadata": {},
   "outputs": [],
   "source": [
    "\"\"\"\n",
    "9.'match' Statement (python 3.10+)\n",
    "'match' adalah fitur baru yang mirip dengan 'switch' di bahasa lain, memungkinkan untuk memeriksa nilai\n",
    "variable dan melakukan pengecekan berdasarkan pola.\n",
    "\"\"\"\n",
    "\n",
    "command = \"start\"\n",
    "\n",
    "match command:\n",
    "    case \"start\":\n",
    "        print(\"starting the process\")\n",
    "    case \"stop\":\n",
    "        print(\"stopping the process\")\n",
    "    case _:\n",
    "        print(\"unknown command\")"
   ]
  },
  {
   "cell_type": "code",
   "execution_count": null,
   "id": "1095474d",
   "metadata": {},
   "outputs": [],
   "source": [
    "\"\"\"\n",
    "10.'assert' statement\n",
    "'assert' digunakan untuk memverifikasi bahwa suatu kondisi benar. jika kondisi tersebut False,\n",
    "maka python akan melemparkan exeption 'assertionError'\n",
    "\"\"\"\n",
    "\n",
    "age = 17\n",
    "assert age >= 18, \"age must be 18 or older\""
   ]
  },
  {
   "cell_type": "code",
   "execution_count": null,
   "id": "56087cde",
   "metadata": {},
   "outputs": [],
   "source": [
    "\"\"\"\n",
    "Tambahan minor (advanced Level & Tips)\n",
    "1.boolean context di python:\n",
    "--- semua tipe data bisa diperlakukan sebagai kondisi.\n",
    "------ Nilai yang dianggap False : None,False,0,0.0,''(string kosong),[],{},set()\n",
    "------ Selain itu dianggap True\n",
    "\"\"\"\n",
    "\n",
    "if []:\n",
    "    print(\"True\")\n",
    "else:\n",
    "    print(\"False\") #ini yang dijalankan"
   ]
  },
  {
   "cell_type": "code",
   "execution_count": null,
   "id": "ca82d307",
   "metadata": {},
   "outputs": [],
   "source": [
    "\"\"\"\n",
    "2.penggunaan dalam one-linear (advanced style):\n",
    "---bisa digunakan dengan logical expression untuk menghemat kode\n",
    "\"\"\"\n",
    "\n",
    "status = (x > 10) and \"big\" or \"small\""
   ]
  },
  {
   "cell_type": "code",
   "execution_count": null,
   "id": "22ea306f",
   "metadata": {},
   "outputs": [],
   "source": [
    "\"\"\"\n",
    "3.Using functions + conditionals:\n",
    "---conditionals sering dipakai dalam fungsi untuk return value berbeda tergantung kondisi\n",
    "\"\"\"\n",
    "\n",
    "def check_age(age):\n",
    "    if age >= 18:\n",
    "        return \"adult\"\n",
    "    else:\n",
    "        return \"minor\""
   ]
  },
  {
   "cell_type": "markdown",
   "id": "38e84c56",
   "metadata": {},
   "source": [
    "walaupun python tidak punya 'switch-case' klasik, match (python 3.10+) sudah menggantikannya."
   ]
  }
 ],
 "metadata": {
  "kernelspec": {
   "display_name": "Python 3",
   "language": "python",
   "name": "python3"
  },
  "language_info": {
   "codemirror_mode": {
    "name": "ipython",
    "version": 3
   },
   "file_extension": ".py",
   "mimetype": "text/x-python",
   "name": "python",
   "nbconvert_exporter": "python",
   "pygments_lexer": "ipython3",
   "version": "3.13.1"
  }
 },
 "nbformat": 4,
 "nbformat_minor": 5
}
