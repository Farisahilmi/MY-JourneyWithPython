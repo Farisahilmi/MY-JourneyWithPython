{
 "cells": [
  {
   "cell_type": "markdown",
   "id": "4d6eda52",
   "metadata": {},
   "source": [
    "index(x[, start[, end]])\n",
    "\n",
    "mengembalilkan indeks pertama dari elemen x (opsional: start & end)"
   ]
  },
  {
   "cell_type": "code",
   "execution_count": 1,
   "id": "f093cab5",
   "metadata": {},
   "outputs": [
    {
     "name": "stdout",
     "output_type": "stream",
     "text": [
      "2\n"
     ]
    }
   ],
   "source": [
    "my_tuple = (1,2,3,2,4,2)\n",
    "\n",
    "index_3 = my_tuple.index(3)\n",
    "\n",
    "print(index_3)"
   ]
  }
 ],
 "metadata": {
  "kernelspec": {
   "display_name": "Python 3",
   "language": "python",
   "name": "python3"
  },
  "language_info": {
   "codemirror_mode": {
    "name": "ipython",
    "version": 3
   },
   "file_extension": ".py",
   "mimetype": "text/x-python",
   "name": "python",
   "nbconvert_exporter": "python",
   "pygments_lexer": "ipython3",
   "version": "3.13.1"
  }
 },
 "nbformat": 4,
 "nbformat_minor": 5
}
