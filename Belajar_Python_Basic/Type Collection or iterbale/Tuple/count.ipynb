{
 "cells": [
  {
   "cell_type": "markdown",
   "id": "4c7950a4",
   "metadata": {},
   "source": [
    "count(x) \n",
    "\n",
    "menghitung berapa kali elemen x muncul dalam tuple"
   ]
  },
  {
   "cell_type": "code",
   "execution_count": 2,
   "id": "b3490ec9",
   "metadata": {},
   "outputs": [
    {
     "name": "stdout",
     "output_type": "stream",
     "text": [
      "3\n"
     ]
    }
   ],
   "source": [
    "my_tuple = (1,2,3,2,4,2)\n",
    "\n",
    "count_2 = my_tuple.count(2)\n",
    "\n",
    "print(count_2)"
   ]
  }
 ],
 "metadata": {
  "kernelspec": {
   "display_name": "Python 3",
   "language": "python",
   "name": "python3"
  },
  "language_info": {
   "codemirror_mode": {
    "name": "ipython",
    "version": 3
   },
   "file_extension": ".py",
   "mimetype": "text/x-python",
   "name": "python",
   "nbconvert_exporter": "python",
   "pygments_lexer": "ipython3",
   "version": "3.13.1"
  }
 },
 "nbformat": 4,
 "nbformat_minor": 5
}
