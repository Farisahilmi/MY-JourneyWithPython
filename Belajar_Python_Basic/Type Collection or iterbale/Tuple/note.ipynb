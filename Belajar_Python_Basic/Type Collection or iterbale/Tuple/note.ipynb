{
 "cells": [
  {
   "cell_type": "markdown",
   "id": "7d8956f3",
   "metadata": {},
   "source": [
    "karena tuple adalah immutable (tidak bbisa diubah setelah dibuat), maka method nya sangat terbatas"
   ]
  }
 ],
 "metadata": {
  "language_info": {
   "name": "python"
  }
 },
 "nbformat": 4,
 "nbformat_minor": 5
}
