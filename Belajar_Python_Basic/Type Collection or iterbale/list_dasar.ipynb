{
 "cells": [
  {
   "cell_type": "markdown",
   "id": "c58a378e",
   "metadata": {},
   "source": [
    "Apa itu list?\n",
    "list digunakan untuk menyimpan banyak data dalam satu variabel"
   ]
  },
  {
   "cell_type": "code",
   "execution_count": null,
   "id": "6138396f",
   "metadata": {},
   "outputs": [],
   "source": [
    "buah = [\"jeruk\",\"apel\",\"mangga\"]\n",
    "\n",
    "#akses list\n",
    "print(buah[0]) #jeruk\n",
    "print(buah[1]) #apel\n",
    "print(buah[2]) #mangga\n",
    "\n",
    "\n",
    "buah.append(\"pisang\") # menambahkan di akhir\n",
    "buah.remove(\"jeruk\")  # menghapus isi tertentu\n",
    "\n",
    "print(buah)\n"
   ]
  },
  {
   "cell_type": "code",
   "execution_count": null,
   "id": "f631e467",
   "metadata": {},
   "outputs": [],
   "source": [
    "#List (Daftar)\n",
    "#Apa itu list\n",
    "#list adalah tipe data yang bisa menyimpan banyak nilai dalam satu variable, dan bisa di ubah-ubah (mutable)\n",
    "\n",
    "buah = [\"apel\",\"jeruk\",\"mangga\"]\n",
    "angka = [1,2,3,4,5]\n",
    "campuran = [10,\"pisan\",True, 3.14]"
   ]
  }
 ],
 "metadata": {
  "kernelspec": {
   "display_name": "Python 3",
   "language": "python",
   "name": "python3"
  },
  "language_info": {
   "codemirror_mode": {
    "name": "ipython",
    "version": 3
   },
   "file_extension": ".py",
   "mimetype": "text/x-python",
   "name": "python",
   "nbconvert_exporter": "python",
   "pygments_lexer": "ipython3",
   "version": "3.13.1"
  }
 },
 "nbformat": 4,
 "nbformat_minor": 5
}
