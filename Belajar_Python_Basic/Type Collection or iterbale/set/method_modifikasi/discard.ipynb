{
 "cells": [
  {
   "cell_type": "markdown",
   "id": "78a52d53",
   "metadata": {},
   "source": [
    "discard(x)\n",
    "\n",
    "menghapus elemen x;\n",
    "tidak error jika x tidak ada"
   ]
  },
  {
   "cell_type": "code",
   "execution_count": 3,
   "id": "5bca6277",
   "metadata": {},
   "outputs": [
    {
     "name": "stdout",
     "output_type": "stream",
     "text": [
      "{1, 2, 3}\n"
     ]
    }
   ],
   "source": [
    "a = {1,2,3}\n",
    "\n",
    "a.discard(10)\n",
    "\n",
    "print(a)"
   ]
  }
 ],
 "metadata": {
  "kernelspec": {
   "display_name": "Python 3",
   "language": "python",
   "name": "python3"
  },
  "language_info": {
   "codemirror_mode": {
    "name": "ipython",
    "version": 3
   },
   "file_extension": ".py",
   "mimetype": "text/x-python",
   "name": "python",
   "nbconvert_exporter": "python",
   "pygments_lexer": "ipython3",
   "version": "3.13.1"
  }
 },
 "nbformat": 4,
 "nbformat_minor": 5
}
