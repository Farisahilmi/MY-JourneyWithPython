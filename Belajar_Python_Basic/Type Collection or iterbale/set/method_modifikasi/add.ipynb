{
 "cells": [
  {
   "cell_type": "markdown",
   "id": "c946a2e4",
   "metadata": {},
   "source": [
    "add(x) \n",
    "\n",
    "menambahkan elemen x ke set"
   ]
  },
  {
   "cell_type": "code",
   "execution_count": 23,
   "id": "d3d7baed",
   "metadata": {},
   "outputs": [
    {
     "name": "stdout",
     "output_type": "stream",
     "text": [
      "{1, 2, 3, 6}\n"
     ]
    }
   ],
   "source": [
    "a = {1,2,3}\n",
    "\n",
    "a.add(6)\n",
    "\n",
    "print(a)"
   ]
  }
 ],
 "metadata": {
  "kernelspec": {
   "display_name": "Python 3",
   "language": "python",
   "name": "python3"
  },
  "language_info": {
   "codemirror_mode": {
    "name": "ipython",
    "version": 3
   },
   "file_extension": ".py",
   "mimetype": "text/x-python",
   "name": "python",
   "nbconvert_exporter": "python",
   "pygments_lexer": "ipython3",
   "version": "3.13.1"
  }
 },
 "nbformat": 4,
 "nbformat_minor": 5
}
