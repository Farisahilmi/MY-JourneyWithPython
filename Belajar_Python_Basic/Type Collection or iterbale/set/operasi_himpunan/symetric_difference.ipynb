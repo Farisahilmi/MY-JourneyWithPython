{
 "cells": [
  {
   "cell_type": "markdown",
   "id": "55834b5b",
   "metadata": {},
   "source": [
    "symetric_difference(*others)\n",
    "\n",
    "elemen yang hanya ada di salah satu set"
   ]
  },
  {
   "cell_type": "code",
   "execution_count": 1,
   "id": "f8714e8b",
   "metadata": {},
   "outputs": [
    {
     "name": "stdout",
     "output_type": "stream",
     "text": [
      "{1, 2, 4, 5}\n"
     ]
    }
   ],
   "source": [
    "x = {1,2,3}\n",
    "y = {3,4,5}\n",
    "\n",
    "z = x.symmetric_difference(y)\n",
    "\n",
    "print(z)"
   ]
  }
 ],
 "metadata": {
  "kernelspec": {
   "display_name": "Python 3",
   "language": "python",
   "name": "python3"
  },
  "language_info": {
   "codemirror_mode": {
    "name": "ipython",
    "version": 3
   },
   "file_extension": ".py",
   "mimetype": "text/x-python",
   "name": "python",
   "nbconvert_exporter": "python",
   "pygments_lexer": "ipython3",
   "version": "3.13.1"
  }
 },
 "nbformat": 4,
 "nbformat_minor": 5
}
