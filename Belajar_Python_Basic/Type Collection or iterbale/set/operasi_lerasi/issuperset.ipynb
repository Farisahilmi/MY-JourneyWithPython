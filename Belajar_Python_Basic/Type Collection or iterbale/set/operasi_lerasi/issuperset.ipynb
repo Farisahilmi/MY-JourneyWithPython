{
 "cells": [
  {
   "cell_type": "markdown",
   "id": "772eeced",
   "metadata": {},
   "source": [
    "issuperset(other)\n",
    "\n",
    "True jika set saat ini adalah superset dari other"
   ]
  },
  {
   "cell_type": "code",
   "execution_count": 1,
   "id": "84a1e17c",
   "metadata": {},
   "outputs": [
    {
     "name": "stdout",
     "output_type": "stream",
     "text": [
      "True\n"
     ]
    }
   ],
   "source": [
    "x = {1,2,3}\n",
    "y = {3,4,5}\n",
    "\n",
    "z = x.issuperset({1,2})\n",
    "print(z)"
   ]
  }
 ],
 "metadata": {
  "kernelspec": {
   "display_name": "Python 3",
   "language": "python",
   "name": "python3"
  },
  "language_info": {
   "codemirror_mode": {
    "name": "ipython",
    "version": 3
   },
   "file_extension": ".py",
   "mimetype": "text/x-python",
   "name": "python",
   "nbconvert_exporter": "python",
   "pygments_lexer": "ipython3",
   "version": "3.13.1"
  }
 },
 "nbformat": 4,
 "nbformat_minor": 5
}
