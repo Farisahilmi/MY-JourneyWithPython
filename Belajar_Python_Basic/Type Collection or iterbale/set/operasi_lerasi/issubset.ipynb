{
 "cells": [
  {
   "cell_type": "markdown",
   "id": "6e492d00",
   "metadata": {},
   "source": [
    "issubset(other)\n",
    "\n",
    "True jika set saat ini adalah subset dari other"
   ]
  },
  {
   "cell_type": "code",
   "execution_count": 2,
   "id": "c0df9853",
   "metadata": {},
   "outputs": [
    {
     "name": "stdout",
     "output_type": "stream",
     "text": [
      "True\n"
     ]
    }
   ],
   "source": [
    "x = {1,2,3}\n",
    "y = {3,4,5}\n",
    "\n",
    "z = x.issubset({1,2,3,4})\n",
    "\n",
    "print(z)"
   ]
  }
 ],
 "metadata": {
  "kernelspec": {
   "display_name": "Python 3",
   "language": "python",
   "name": "python3"
  },
  "language_info": {
   "codemirror_mode": {
    "name": "ipython",
    "version": 3
   },
   "file_extension": ".py",
   "mimetype": "text/x-python",
   "name": "python",
   "nbconvert_exporter": "python",
   "pygments_lexer": "ipython3",
   "version": "3.13.1"
  }
 },
 "nbformat": 4,
 "nbformat_minor": 5
}
