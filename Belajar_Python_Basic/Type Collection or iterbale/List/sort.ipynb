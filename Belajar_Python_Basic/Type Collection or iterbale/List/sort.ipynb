{
 "cells": [
  {
   "cell_type": "code",
   "execution_count": null,
   "id": "78ca5116",
   "metadata": {},
   "outputs": [],
   "source": [
    "#.sort()\n",
    "#digunakan untuk 'mengurutkan elemen dalam list', secara default, akan diurutkan dari kecil ke besar (Ascending)\n",
    "#dan penting: list-nya akan berubah (in-Place), artinya urutannya langsung diubah di list aslinya\n",
    "\n",
    "angka = [5,2,9,1,7]\n",
    "angka.sort()\n",
    "print(angka)    #[1,2,5,7,9]\n",
    "\n",
    "#urutan dari besa ke kecil (Descending)\n",
    "#gunakan paramter | reverse=True\n",
    "hitung = [5,2,9,1,7]\n",
    "hitung.sort(reverse=True)\n",
    "print(hitung)   #[9,7,5,2,1]\n",
    "\n",
    "#mengurutkan list string (alphabet)\n",
    "kata = [\"apel\",\"Jeruk\",\"anggur\",\"Pisang\"]\n",
    "kata.sort()\n",
    "print(kata)     #['Jeruk','Pisang','anggur','apel']\n",
    "#Huruf besar punya nilai ASCII lebih kecil dari huruf kecil\n",
    "\n",
    "#mengurutkan dengan kriteria khusu (pakai key)\n",
    "#misal:urutkan berdasarkan panjang kata\n",
    "kalimat = [\"apel\",\"jeruk\",\"a\",\"pisang\"]\n",
    "kalimat.sort(key=len)\n",
    "print(kalimat)     #['a','apel','jeruk','pisang']\n",
    "\n",
    "#bedanya dengan sorted()\n",
    "#.sort() = mengubah list aslinya\n",
    "#sorted() = mengembalikan list baru,list asli tetap\n",
    "isi = [3,1,2]\n",
    "baru = sorted(isi)\n",
    "print(baru)\n",
    "print(isi)"
   ]
  }
 ],
 "metadata": {
  "language_info": {
   "name": "python"
  }
 },
 "nbformat": 4,
 "nbformat_minor": 5
}
