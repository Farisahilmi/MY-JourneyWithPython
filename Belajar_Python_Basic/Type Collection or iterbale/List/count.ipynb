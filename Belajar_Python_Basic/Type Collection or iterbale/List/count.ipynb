{
 "cells": [
  {
   "cell_type": "markdown",
   "id": "648d8ff8",
   "metadata": {},
   "source": [
    "list.count(x)\n",
    "fungsi\n",
    "menghitung berapa kali elemen x muncul dalam sebuah list"
   ]
  },
  {
   "cell_type": "markdown",
   "id": "5657d00b",
   "metadata": {},
   "source": [
    "sintaks\n",
    "\n",
    "# list_utama.count(x)\n",
    "\n",
    "x = nilai elemen yang ingin dihitung kemunculannya di list"
   ]
  },
  {
   "cell_type": "markdown",
   "id": "d2e1be08",
   "metadata": {},
   "source": [
    "penjelasan\n",
    "count() mengembalikan sebuah angka (integer) yang menunjukan jumlah elemen x di list tersebut.\n",
    "\n",
    "kalau elemen x tidak ditemukan, hasilnya 0"
   ]
  },
  {
   "cell_type": "code",
   "execution_count": null,
   "id": "ffdb12d6",
   "metadata": {},
   "outputs": [],
   "source": [
    "#contoh penggunaan\n",
    "a = [1,2,3,2,2,4,5]\n",
    "\n",
    "print(a.count(2))       # 3, karena angka 2 muncul 3 kali\n",
    "print(a.count(10))      # 0, karena angka 10 tidak ada di list\n",
    "\n",
    "b = [\"apel\", \"jeruk\", \"apel\", \"pisang\", \"apel\"]\n",
    "print(b.count(\"apel\"))      # 3\n",
    "print(b.count(\"mangga\"))    # 0"
   ]
  },
  {
   "cell_type": "markdown",
   "id": "5f728230",
   "metadata": {},
   "source": [
    "kegunaan count()\n",
    "\n",
    "untuk mengetahui frekuensi elemen tertentu dalam list\n",
    "\n",
    "bisa dipakai untuk cek ada berapa elemen duplikat\n",
    "\n",
    "sering digunakan dalam analisis data sederhana"
   ]
  }
 ],
 "metadata": {
  "kernelspec": {
   "display_name": "Python 3",
   "language": "python",
   "name": "python3"
  },
  "language_info": {
   "name": "python",
   "version": "3.13.1"
  }
 },
 "nbformat": 4,
 "nbformat_minor": 5
}
