{
 "cells": [
  {
   "cell_type": "code",
   "execution_count": null,
   "id": "8e3deca1",
   "metadata": {},
   "outputs": [],
   "source": [
    "#apa itu .pop() pada list?\n",
    "#digunakan untuk 'menghapus dan mengembalikan elemen'\n",
    "#dia mengambil isi list, lalu menghapusnya dari list, lalu mengembalikan nilainya\n",
    "\n",
    "listku = [10,20,30,40,50]\n",
    "hasil = listku.pop()  #menghapus elemen terakhir (50)\n",
    "print(hasil)          # 50\n",
    "print(listku)         # [10,20,30,40]\n",
    "\n",
    "#.pop(index)\n",
    "#bisa juga pakai berdasarkan index(urutan)\n",
    "list1 = [\"a\",\"b\",\"c\",\"d\"]\n",
    "hasil = list1.pop(1)    #hapus lalu ambil elemen di index ke 1 (\"b\")\n",
    "print(hasil)            # 'b'\n",
    "print(list1)            # ['a','c','d']\n",
    "\n",
    "#apa yang terjadi kalau index tidak ada?\n",
    "#kalau kasih index yang tidak ada, python akan kasih error\n",
    "\n",
    "#kenapa .pop() berguna?\n",
    "#buat menghapus elemen secara dinamis\n",
    "#cocok untuk stack(LIFO): push and pop\n",
    "#bisa langsung menyimpan hasil elemen yang dihapus"
   ]
  }
 ],
 "metadata": {
  "language_info": {
   "name": "python"
  }
 },
 "nbformat": 4,
 "nbformat_minor": 5
}
