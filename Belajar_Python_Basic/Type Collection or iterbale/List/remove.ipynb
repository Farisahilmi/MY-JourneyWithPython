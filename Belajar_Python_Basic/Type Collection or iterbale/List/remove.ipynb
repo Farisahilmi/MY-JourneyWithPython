{
 "cells": [
  {
   "cell_type": "markdown",
   "id": "b807d207",
   "metadata": {},
   "source": [
    ".remove(x) menghapus elemen pertama yang nilainya sama dengan x dari list"
   ]
  },
  {
   "cell_type": "code",
   "execution_count": null,
   "id": "79ac46df",
   "metadata": {},
   "outputs": [],
   "source": [
    "#contoh dasar\n",
    "buah = [\"apel\",\"jeruk\",\"mangga\",\"jeruk\"]\n",
    "buah.remove(\"jeruk\")\n",
    "print(buah)\n",
    "\n",
    "#hanya jeruk pertama yang dihapus, bukan semua jeruk"
   ]
  },
  {
   "cell_type": "code",
   "execution_count": null,
   "id": "8fd08591",
   "metadata": {},
   "outputs": [],
   "source": [
    "#kalau elemen tidak ada?\n",
    "#akan muncul error ValueError\n",
    "\n",
    "buah = [\"apel\",\"mangga\"]\n",
    "buah.remove(\"pisang\")\n",
    "\n",
    "#solusi: cek dulu apakah nilainya ada:\n",
    "if \"pisang\" in buah:\n",
    "    buah.remove(\"pisang\")"
   ]
  },
  {
   "cell_type": "markdown",
   "id": "7cb6211f",
   "metadata": {},
   "source": [
    "perbandingan dengan .pop() dan del\n",
    ".remove(x) > berdasarkan, Nilai > hasil, hapus elemen pertama x\n",
    ".pop(i) > berdasarkan, index > hapus elemen ke i, bisa dapat nilainya\n",
    "del list[i] > berdasarkan, index > hapus tanpa mengembalikan nilai"
   ]
  },
  {
   "cell_type": "code",
   "execution_count": null,
   "id": "a4b3f08e",
   "metadata": {},
   "outputs": [],
   "source": [
    "#contoh gabungan\n",
    "angka = [1,2,3,2,4]\n",
    "angka.remove(2)\n",
    "print(angka)\n",
    "\n",
    "#hanya 2 yang pertama yang dihapus"
   ]
  },
  {
   "cell_type": "code",
   "execution_count": null,
   "id": "9861cd64",
   "metadata": {},
   "outputs": [],
   "source": [
    "warna = [\"merah\",\"kuning\",\"biru\",\"kuning\",\"hijau\"]\n",
    "warna.remove(\"kuning\")\n",
    "print(warna)"
   ]
  }
 ],
 "metadata": {
  "kernelspec": {
   "display_name": "Python 3",
   "language": "python",
   "name": "python3"
  },
  "language_info": {
   "codemirror_mode": {
    "name": "ipython",
    "version": 3
   },
   "file_extension": ".py",
   "mimetype": "text/x-python",
   "name": "python",
   "nbconvert_exporter": "python",
   "pygments_lexer": "ipython3",
   "version": "3.13.1"
  }
 },
 "nbformat": 4,
 "nbformat_minor": 5
}
