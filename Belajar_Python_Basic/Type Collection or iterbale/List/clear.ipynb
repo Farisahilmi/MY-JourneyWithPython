{
 "cells": [
  {
   "cell_type": "markdown",
   "id": "39a1b4db",
   "metadata": {},
   "source": [
    "list.clear()\n",
    "\n",
    "fungsi\n",
    "menghapus semua elemen di dalam list, sehingga list menjadi kosong ([])."
   ]
  },
  {
   "cell_type": "markdown",
   "id": "0a588db3",
   "metadata": {},
   "source": [
    "sintaks\n",
    "\n",
    "# list_utama.clear()\n",
    "\n",
    "tidak ada parameter tambahan"
   ]
  },
  {
   "cell_type": "markdown",
   "id": "84ac5d72",
   "metadata": {},
   "source": [
    "penjelasan \n",
    "\n",
    "clear() akan mengosongkan isi list tapi list-nya tetap ada (tidak dihapus)\n",
    "berguna kalau ingin menghapus semua data di list tanpa membuat list baru"
   ]
  },
  {
   "cell_type": "code",
   "execution_count": null,
   "id": "aebf07b4",
   "metadata": {},
   "outputs": [],
   "source": [
    "a = [1,2,3,4,5]\n",
    "a.clear()\n",
    "print(a)\n",
    "print(type(a))"
   ]
  },
  {
   "cell_type": "markdown",
   "id": "8102a04f",
   "metadata": {},
   "source": [
    "bedanya dengan # del a\n",
    "a.clear() > kosongkan isi list, tapi list-nya masih ada\n",
    "del a > menghapus variable list a(list dan variable hilang)"
   ]
  }
 ],
 "metadata": {
  "kernelspec": {
   "display_name": "Python 3",
   "language": "python",
   "name": "python3"
  },
  "language_info": {
   "codemirror_mode": {
    "name": "ipython",
    "version": 3
   },
   "file_extension": ".py",
   "mimetype": "text/x-python",
   "name": "python",
   "nbconvert_exporter": "python",
   "pygments_lexer": "ipython3",
   "version": "3.13.1"
  }
 },
 "nbformat": 4,
 "nbformat_minor": 5
}
