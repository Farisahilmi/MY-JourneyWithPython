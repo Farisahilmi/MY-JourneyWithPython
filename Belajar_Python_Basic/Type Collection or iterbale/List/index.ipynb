{
 "cells": [
  {
   "cell_type": "markdown",
   "id": "720345a9",
   "metadata": {},
   "source": [
    "list.index(x, start=0, end=len(list))\n",
    "\n",
    "Fungsi\n",
    "mencari index (posisi) dari elemen pertama yang memiliki nilai sama dengan x didalam list\n",
    "kalau elemen x tidak ada, akan terjadi error (ValueError)"
   ]
  },
  {
   "cell_type": "markdown",
   "id": "2f4275e7",
   "metadata": {},
   "source": [
    "#sintaks\n",
    "\n",
    "# list_utama.index(x, start=0, end=len(list_utama))\n",
    "\n",
    "x = nilai elemen yang ingin dicari indexnya\n",
    "\n",
    "start (opsional) = posisi mulai pencarian (default: dari awal list)\n",
    "\n",
    "end (opsional) = posisi akhir pencarian (default: sampai akhir list, tidak termasuk index ini)"
   ]
  },
  {
   "cell_type": "markdown",
   "id": "be7e7bfd",
   "metadata": {},
   "source": [
    "#penjelasan\n",
    "\n",
    "index() = mengembalikan angka berupa index pertama kali elemen x ditemukan\n",
    "\n",
    "jika ada beberapa elemen x di list, hanya indeks elemen pertama yang dikembalikan\n",
    "\n",
    "'start' dan 'end' bisa dipakai untuk membatasi rentang pencarian supaya lebih spesifik"
   ]
  },
  {
   "cell_type": "code",
   "execution_count": null,
   "id": "3cc56d10",
   "metadata": {},
   "outputs": [],
   "source": [
    "#contoh sederhana\n",
    "\n",
    "a = [\"apel\", \"jeruk\", \"pisang\", \"jeruk\"]\n",
    "\n",
    "print(a.index(\"jeruk\"))         # 1 (index elemen 'jeruk' pertama)\n",
    "print(a.index(\"jeruk\", 2))      # 3 (mencari mulai dari indeks 2)\n",
    "print(a.index(\"jeruk\", 0, 2))   # 1 (mencari antara indeks 0 dan 1)"
   ]
  },
  {
   "cell_type": "code",
   "execution_count": null,
   "id": "ae2b9817",
   "metadata": {},
   "outputs": [],
   "source": [
    "# kalau elemen tidak ditemukan \n",
    "a = [10, 20, 30]\n",
    "print(a.index(40))      # error: ValueError: 40 is not in list\n",
    "\n"
   ]
  },
  {
   "cell_type": "code",
   "execution_count": null,
   "id": "d4c172a4",
   "metadata": {},
   "outputs": [],
   "source": [
    "\n",
    "#kalau ingin menghindari error, bisa cek dulu dengan if\n",
    "x = 40\n",
    "if x in a:\n",
    "    print(a.index(x))\n",
    "else:\n",
    "    print(f\"{x} tidak ada di list\")"
   ]
  },
  {
   "cell_type": "markdown",
   "id": "e4617752",
   "metadata": {},
   "source": [
    "ringkasan\n",
    "\n",
    "index() mencari posisi elemen pertama yang sama dengan nilai x\n",
    "bisa dibatasi pencarian dengan start dan end\n",
    "jika elemen tidak ada, akan error"
   ]
  }
 ],
 "metadata": {
  "kernelspec": {
   "display_name": "Python 3",
   "language": "python",
   "name": "python3"
  },
  "language_info": {
   "codemirror_mode": {
    "name": "ipython",
    "version": 3
   },
   "file_extension": ".py",
   "mimetype": "text/x-python",
   "name": "python",
   "nbconvert_exporter": "python",
   "pygments_lexer": "ipython3",
   "version": "3.13.1"
  }
 },
 "nbformat": 4,
 "nbformat_minor": 5
}
