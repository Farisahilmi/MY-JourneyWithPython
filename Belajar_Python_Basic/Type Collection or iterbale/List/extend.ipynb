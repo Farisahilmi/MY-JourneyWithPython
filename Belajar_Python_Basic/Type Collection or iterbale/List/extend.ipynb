{
 "cells": [
  {
   "cell_type": "markdown",
   "id": "ba4c77de",
   "metadata": {},
   "source": [
    ".extend(iterable) akan menambahkan setiap elemen dari iterable (misalnya list lain, string, tuple) ke list utama, satu per satu"
   ]
  },
  {
   "cell_type": "code",
   "execution_count": null,
   "id": "60c2219b",
   "metadata": {},
   "outputs": [],
   "source": [
    "#contoh dasar\n",
    "angka = [1,2,3]\n",
    "angka.extend([4,5,6])\n",
    "print(angka)"
   ]
  },
  {
   "cell_type": "code",
   "execution_count": null,
   "id": "b0a20f03",
   "metadata": {},
   "outputs": [],
   "source": [
    "#bedanya dengan .append()\n",
    "a = [1,2,3]\n",
    "\n",
    "a.append([4,5])\n",
    "print(a)        #[1,2,3,[4,5]]  < list baru jadi satu elemen\n",
    "\n",
    "b = [1,2,3]\n",
    "b.extend([4,5])\n",
    "print(b)        #[1,2,3,4,5]"
   ]
  }
 ],
 "metadata": {
  "kernelspec": {
   "display_name": "Python 3",
   "language": "python",
   "name": "python3"
  },
  "language_info": {
   "codemirror_mode": {
    "name": "ipython",
    "version": 3
   },
   "file_extension": ".py",
   "mimetype": "text/x-python",
   "name": "python",
   "nbconvert_exporter": "python",
   "pygments_lexer": "ipython3",
   "version": "3.13.1"
  }
 },
 "nbformat": 4,
 "nbformat_minor": 5
}
