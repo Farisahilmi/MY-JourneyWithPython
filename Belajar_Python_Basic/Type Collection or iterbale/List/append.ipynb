{
 "cells": [
  {
   "cell_type": "markdown",
   "id": "7f03c5ee",
   "metadata": {},
   "source": [
    "apa itu .append()?\n",
    ".append() digunakan untuk menambahkan satu elemen ke akhir list\n",
    "\n",
    "sifatnya:\n",
    "tidak mengembalikan nilai (none)\n",
    "mengubah list secara langsung"
   ]
  },
  {
   "cell_type": "code",
   "execution_count": null,
   "id": "fa3fff88",
   "metadata": {},
   "outputs": [],
   "source": [
    "#contoh dasar\n",
    "buah = [\"apel\",\"jeruk\"]\n",
    "buah.append(\"mangga\")\n",
    "print(buah)"
   ]
  },
  {
   "cell_type": "code",
   "execution_count": null,
   "id": "82a66bb1",
   "metadata": {},
   "outputs": [],
   "source": [
    "#menambahkan angka,string bahkan list lain\n",
    "angka = [1,2,3]\n",
    "angka.append(4)\n",
    "print(angka)\n",
    "\n",
    "angka.append([4, 5])\n",
    "print(angka)\n",
    "\n",
    "\n",
    "#hati-hati kalau kamu append() list,dia jadi satu elemen list baru, bukan digabung\n",
    "\n",
    "#kalau mau digabungkan isi list-nya pakai .extend() "
   ]
  },
  {
   "cell_type": "code",
   "execution_count": null,
   "id": "ce448480",
   "metadata": {},
   "outputs": [],
   "source": [
    "#loop + append > bikin list dinamis\n",
    "angka_genap= []\n",
    "for i in range(0,10,2):\n",
    "    angka_genap.append(i)\n",
    "    \n",
    "\n",
    "print(angka_genap)"
   ]
  },
  {
   "cell_type": "markdown",
   "id": "6574f5bb",
   "metadata": {},
   "source": [
    "bedanya dengan + atau .extend()\n",
    ".append() > tambah satu elemen\n",
    ".extend() > gabung isi list lain \n",
    "+ > bikin list baru, bukan mengubah yang lama"
   ]
  },
  {
   "cell_type": "code",
   "execution_count": null,
   "id": "e924e705",
   "metadata": {},
   "outputs": [],
   "source": [
    "a = [1,2]\n",
    "b = [3,4]\n",
    "\n",
    "a.append(b)\n",
    "print(a)\n",
    "\n",
    "a = [1,2]\n",
    "b = [3,4]\n",
    "\n",
    "a.extend(b)\n",
    "print(a)"
   ]
  },
  {
   "cell_type": "markdown",
   "id": "b55c87b9",
   "metadata": {},
   "source": [
    "kesimpulan cepat\n",
    "\n",
    "list.append(x) > tambah x di akhir, ke list elemen\n",
    "list.extend(x) > gabungkan isi x ke list (jika x iterable)\n",
    "list += x > mirip extend, tapi bisa lebih fleksible"
   ]
  }
 ],
 "metadata": {
  "kernelspec": {
   "display_name": "Python 3",
   "language": "python",
   "name": "python3"
  },
  "language_info": {
   "codemirror_mode": {
    "name": "ipython",
    "version": 3
   },
   "file_extension": ".py",
   "mimetype": "text/x-python",
   "name": "python",
   "nbconvert_exporter": "python",
   "pygments_lexer": "ipython3",
   "version": "3.13.1"
  }
 },
 "nbformat": 4,
 "nbformat_minor": 5
}
