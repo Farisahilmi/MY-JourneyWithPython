{
 "cells": [
  {
   "cell_type": "markdown",
   "id": "5b5f3fcd",
   "metadata": {},
   "source": [
    "apa itu .insert()?\n",
    ".insert(index, elemen) menambahkan elemen ke posisi tertentu di dalam list\n",
    "\n",
    "list.insert(posisi, nilai)"
   ]
  },
  {
   "cell_type": "code",
   "execution_count": null,
   "id": "c293e062",
   "metadata": {},
   "outputs": [],
   "source": [
    "#contoh dasar\n",
    "buah = [\"apel\",\"jeruk\",\"mangga\"]\n",
    "buah.insert(1, \"pisang\")\n",
    "print(buah)\n",
    "\n",
    "#pisang dimasukkan ke indeks ke 1 (ingat: index mulai dari 0)"
   ]
  },
  {
   "cell_type": "code",
   "execution_count": null,
   "id": "995af11e",
   "metadata": {},
   "outputs": [],
   "source": [
    "#kalau index melebihi panjang list?\n",
    "\n",
    "angka = [1,2,3]\n",
    "angka.insert(10,99)\n",
    "print(angka)\n",
    "\n",
    "#kalau kamu masukkan posisi yang terlalu besar, python tetap aman: elemen ditaruh di akhir list"
   ]
  },
  {
   "cell_type": "code",
   "execution_count": null,
   "id": "3ac72c06",
   "metadata": {},
   "outputs": [],
   "source": [
    "#kalau index negatif\n",
    "angka = [1,2,3]\n",
    "angka.insert(-1,0)\n",
    "print(angka)\n",
    "#index negatif artinya dari belakang. -1 artinya sebelum elemen terakhir"
   ]
  },
  {
   "cell_type": "markdown",
   "id": "dfde9b94",
   "metadata": {},
   "source": [
    "perbedaan .append() vs .insert()\n",
    ".append(x) > tambah x ke akhir list\n",
    ".insert(i, x) > tambah x ke posisi ke i"
   ]
  }
 ],
 "metadata": {
  "kernelspec": {
   "display_name": "Python 3",
   "language": "python",
   "name": "python3"
  },
  "language_info": {
   "codemirror_mode": {
    "name": "ipython",
    "version": 3
   },
   "file_extension": ".py",
   "mimetype": "text/x-python",
   "name": "python",
   "nbconvert_exporter": "python",
   "pygments_lexer": "ipython3",
   "version": "3.13.1"
  }
 },
 "nbformat": 4,
 "nbformat_minor": 5
}
