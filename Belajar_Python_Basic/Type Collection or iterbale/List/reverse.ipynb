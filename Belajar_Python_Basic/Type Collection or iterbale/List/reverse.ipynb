{
 "cells": [
  {
   "cell_type": "markdown",
   "id": "b85c1e29",
   "metadata": {},
   "source": [
    ".reverse() digunakan untuk membalik urutan elemen dalam list\n",
    "\n",
    "catatan penting:\n",
    "tidak membuat list baru\n",
    "mengubah isi list di tempat (in-place)\n",
    "tidak mengembalikan nilai (hasilnya None kalau dicetak langsung)"
   ]
  },
  {
   "cell_type": "code",
   "execution_count": null,
   "id": "c380d25e",
   "metadata": {},
   "outputs": [],
   "source": [
    "#contoh dasar\n",
    "angka = [1,2,3,4]\n",
    "angka.reverse()\n",
    "print(angka)"
   ]
  },
  {
   "cell_type": "code",
   "execution_count": null,
   "id": "d5363c4e",
   "metadata": {},
   "outputs": [],
   "source": [
    "angka = [1,2,3,4]\n",
    "print(angka.reverse())      #None\n",
    "\n",
    "#kenapa None? karena .reverse() Tidak mengembalikan apa-apa, dia langsung mengubah list angka"
   ]
  },
  {
   "cell_type": "code",
   "execution_count": null,
   "id": "e329df30",
   "metadata": {},
   "outputs": [],
   "source": [
    "#alternatif: slicing [::-1]\n",
    "\n",
    "#kalau butuh list baru yang terbalik (tanpa mengubah list asli), kamu bisa pakai slicing\n",
    "\n",
    "angka = [1,2,3,4]\n",
    "balik = angka[::-1]\n",
    "\n",
    "print(balik)        #[4,3,2,1]\n",
    "print(angka)        #[1,2,3,4] < tetap"
   ]
  },
  {
   "cell_type": "markdown",
   "id": "86563c59",
   "metadata": {},
   "source": [
    "perbandingan  .reverse() vs [::-1]\n",
    ".reverse() > ubah list asli, Ya | kembalikan list baru?, Tidak\n",
    ".list[::-1] > ubah list asli, Tidak | kembalikan list baru? , Ya "
   ]
  }
 ],
 "metadata": {
  "kernelspec": {
   "display_name": "Python 3",
   "language": "python",
   "name": "python3"
  },
  "language_info": {
   "codemirror_mode": {
    "name": "ipython",
    "version": 3
   },
   "file_extension": ".py",
   "mimetype": "text/x-python",
   "name": "python",
   "nbconvert_exporter": "python",
   "pygments_lexer": "ipython3",
   "version": "3.13.1"
  }
 },
 "nbformat": 4,
 "nbformat_minor": 5
}
