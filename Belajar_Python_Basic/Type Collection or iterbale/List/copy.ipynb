{
 "cells": [
  {
   "cell_type": "markdown",
   "id": "def36e87",
   "metadata": {},
   "source": [
    "apa itu .copy()\n",
    "digunakan untuk membuat salinan list yang baru. artinya, kamu akan punya dua list yang berbeda meskipun isinya sama."
   ]
  },
  {
   "cell_type": "code",
   "execution_count": null,
   "id": "b4afec15",
   "metadata": {},
   "outputs": [],
   "source": [
    "#contoh dasar\n",
    "list_asli = [1,2,3]\n",
    "list_baru = list_asli.copy()\n",
    "\n",
    "print(list_baru)    #[1,2,3]\n",
    "\n",
    "#kalau kita ubah list_baru, lis_asli tidak ikut berubah:\n",
    "\n",
    "list_baru.append(4)\n",
    "print(list_baru)    #[1,2,3,4]\n",
    "print(list_asli)    #[1,2,3]"
   ]
  },
  {
   "cell_type": "code",
   "execution_count": null,
   "id": "c1f15daa",
   "metadata": {},
   "outputs": [],
   "source": [
    "#tanpa .copy() (hari-hari!)\n",
    "#kalau kamu pakai =, kamu cuma bikin\n",
    "#referensi ke list yang sama, bukan salinan:\n",
    "list_asli = [1,2,3]\n",
    "list_salah = list_asli  #bukan copy!\n",
    "\n",
    "list_salah.append(4)\n",
    "print(list_asli)        #[1,2,3,4] < ikut berubah!"
   ]
  }
 ],
 "metadata": {
  "kernelspec": {
   "display_name": "Python 3",
   "language": "python",
   "name": "python3"
  },
  "language_info": {
   "codemirror_mode": {
    "name": "ipython",
    "version": 3
   },
   "file_extension": ".py",
   "mimetype": "text/x-python",
   "name": "python",
   "nbconvert_exporter": "python",
   "pygments_lexer": "ipython3",
   "version": "3.13.1"
  }
 },
 "nbformat": 4,
 "nbformat_minor": 5
}
