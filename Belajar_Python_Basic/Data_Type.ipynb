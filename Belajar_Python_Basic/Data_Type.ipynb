{
 "cells": [
  {
   "cell_type": "code",
   "execution_count": null,
   "id": "e21da098",
   "metadata": {},
   "outputs": [],
   "source": [
    "\"\"\"\n",
    "Tipe Data Python\n",
    "\"\"\""
   ]
  },
  {
   "cell_type": "code",
   "execution_count": null,
   "id": "cc8a6952",
   "metadata": {},
   "outputs": [],
   "source": [
    "\"\"\"\n",
    "1.Tipe Data Dasar (primitive/ skalar)/ (basic type)\n",
    "\"\"\"\n",
    "integer = 5             #int (integer) bilangan bulat\n",
    "Float = 3.14            #Float (Float) bilangan desimal\n",
    "Boolean = True          #Bool (Boolean) Nilai logika (benar/salah)\n",
    "String = \"halo\"         #Str (String) teks/kalimat\n",
    "Complex = 2 + 3j        #Complex (Complex) bilangan kompleks (real + imajiner)"
   ]
  },
  {
   "cell_type": "code",
   "execution_count": null,
   "id": "7b579f05",
   "metadata": {},
   "outputs": [],
   "source": [
    "\"\"\"\n",
    "2.Tipe Data Koleksi (collection types)\n",
    "\n",
    "*NOTED \n",
    "Mutable = lebih lambat / Ukuran Memori lebih besar\n",
    "Imutable = lebih cepat / Ukuran Memori lebih kecil\n",
    "\n",
    "Data Yang mungkin berubah = Dinamis\n",
    "Data yang Tidak berubah   = Statis\n",
    "\"\"\"\n",
    "\n",
    "List = [1,2,3]      #list | berurutan, mutable(bisa diubah), ada index\n",
    "Tuple = (1,2,3)     #tuple | berurutan, Imutable(Tidak bisa diubah)\n",
    "Dict = {\"a\",1}      #dict-ionary | Key-Value Pairs (Mirip Kamus)\n",
    "Set = {1,2,3}       #set | Tidak Berurutan, Unik, tanpa duplikat, mutable, tidak punya index\n",
    "Frozenset = frozenset([1,2,3])  #seperti set | tapi immutable tapi tidak bisa diubah\n",
    "\n",
    "for i in range(0,5):            #Range | urutan angka, efisien untuk looping\n",
    "    print(i)"
   ]
  },
  {
   "cell_type": "code",
   "execution_count": null,
   "id": "389adc8b",
   "metadata": {},
   "outputs": [],
   "source": [
    "\"\"\"\n",
    "3.Tipe Data Binary / Buffer Types\n",
    "\"\"\"\n",
    "Bytes = b\"hello\"                #bytes | data biner, Imutable\n",
    "Bytearray = bytearray(b\"hi\")    #bytearray | data biner, mutable (ASCII)\n",
    "Memoryview = memoryview(b\"hi\")  #memoryview | melihat/ memanipulasi buffer data"
   ]
  },
  {
   "cell_type": "code",
   "execution_count": null,
   "id": "5cde0225",
   "metadata": {},
   "outputs": [],
   "source": [
    "\"\"\"\n",
    "4.Tipe Data Khusus\n",
    "\"\"\"\n",
    "NoneType = None         #None | nilai kosong atau tidak didefinisikan\n",
    "print(NotImplemented)   #NotImplemented | menunjukan operasi belum diimplementasi\n",
    "print(...)              #ellipsis | khusus digunakan dalam slice atau placeholder"
   ]
  },
  {
   "cell_type": "code",
   "execution_count": null,
   "id": "f5d32e0d",
   "metadata": {},
   "outputs": [],
   "source": [
    "\n",
    "\"\"\"\n",
    "5.Tipe data koleksi khusus dari 'collections' module\n",
    "\"\"\"\n",
    "#NamedTuple | Tuple dengan nama field, akses lebih mudah\n",
    "from collections import namedtuple\n",
    "point = namedtuple('point', ['x','y'])\n",
    "p = point(1,2)\n",
    "print(p)\n",
    "\n",
    "#deque | Double-ended queue, bisa menambahkan dari kiri dan kanan\n",
    "from collections import deque\n",
    "dq = deque([1,2,3])\n",
    "dq.appendleft(0)\n",
    "print(dq)\n",
    "\n",
    "#Counter | Menghitung frekuensi elemen\n",
    "from collections import Counter\n",
    "hitung = Counter('aabbcc')\n",
    "print(hitung)\n",
    "\n",
    "#defaultdict | Dictionary dengan nilai default otomatis\n",
    "from collections import defaultdict\n",
    "d = defaultdict(int)\n",
    "d['a'] += 1\n",
    "print(d)\n",
    "\n",
    "#OrderedDict | Dictionary yang mempertahankan urutan insert (sekarang default di python 3.7+)\n",
    "from collections import OrderedDict\n",
    "od = OrderedDict()\n",
    "od['satu'] = 1\n",
    "od['dua'] = 2\n",
    "print(od)\n",
    "\n",
    "#ChainMap | gabungkan beberapa dict menjadi satu map\n",
    "from collections import ChainMap\n",
    "a = {'x': 1}\n",
    "b = {'y': 2}\n",
    "cm = ChainMap(a,b)\n",
    "print(cm)"
   ]
  },
  {
   "cell_type": "code",
   "execution_count": null,
   "id": "abb1613f",
   "metadata": {},
   "outputs": [],
   "source": [
    "\"\"\"\n",
    "6.Iterator Tolls & Helpers (Built-in)\n",
    "\"\"\"\n",
    "\n",
    "#enumerate | menggabungkan index dengan nilai saat looping\n",
    "buah = [\"jeruk\",\"apel\"]\n",
    "for index, item in enumerate(buah):\n",
    "    print(index, item)\n",
    "    \n",
    "#zip | menggabungkan dua iterable menjadi tuple pasangan\n",
    "nama = [\"a\",\"b\"]\n",
    "umur = [20, 25]\n",
    "gabung = zip(nama, umur)\n",
    "print(list(gabung))\n",
    "\n",
    "#map | menerapkan fungsi ke setiap elemen iterable\n",
    "angka = [1,2,3]\n",
    "hasil = map(lambda x: x*2, angka)\n",
    "print(list(hasil))\n",
    "\n",
    "#filter | memfilter elemen sesuai kodisi\n",
    "angka = [1,2,3,4]\n",
    "genap = filter(lambda x: x%2 == 0, angka)\n",
    "print(list(genap))\n",
    "\n",
    "#reversed | membalik urutan iterable\n",
    "angka = [1,2,3]\n",
    "print(list(reversed(angka)))\n",
    "\n",
    "#iter | membuat iterator dari iterable\n",
    "angka = [1,2,3]\n",
    "it = iter(angka)\n",
    "print(next(it))\n",
    "\n",
    "#slice | objek slice untuk pemotongan indeks\n",
    "angka = [10,20,30,40]\n",
    "potongan = angka[slice(1,3)]\n",
    "print(potongan)"
   ]
  }
 ],
 "metadata": {
  "kernelspec": {
   "display_name": "Python 3",
   "language": "python",
   "name": "python3"
  },
  "language_info": {
   "codemirror_mode": {
    "name": "ipython",
    "version": 3
   },
   "file_extension": ".py",
   "mimetype": "text/x-python",
   "name": "python",
   "nbconvert_exporter": "python",
   "pygments_lexer": "ipython3",
   "version": "3.13.1"
  }
 },
 "nbformat": 4,
 "nbformat_minor": 5
}
