{
 "cells": [
  {
   "cell_type": "code",
   "execution_count": null,
   "id": "ec78ec3d",
   "metadata": {},
   "outputs": [],
   "source": [
    "\"\"\"\n",
    "Variable Python \n",
    "Variable = wadah untuk menyimpan data\n",
    "contoh\n",
    "nama = \"farisa\"\n",
    "umur = 19\n",
    "\"\"\"\n",
    "\n",
    "\"\"\"\n",
    "ciri ciri variable di python\n",
    "1.tidak perlu deklarasi tipe data\n",
    "2.bersifat dinamis (bisa berubah tipe datanya)\n",
    "3.gunakan nama yang jelas\n",
    "\"\"\"\n",
    "\n",
    "\"\"\"\n",
    "contoh \n",
    "x = 5 #int\n",
    "x = \"lima\" #sekarang jadi str\n",
    "\"\"\"\n",
    "\n",
    "\"\"\"\n",
    "aturan penamaan variabel\n",
    "boleh:\n",
    "huruf, angka, _(underscore)\n",
    "huruf kecil/ kapital\n",
    "boleh di awali_(underscore)\n",
    "\n",
    "tidak boleh:\n",
    "spasi\n",
    "simbol aneh(@,%,&,DLL)\n",
    "tidak boleh di awali angka\n",
    "\"\"\"\n",
    "\n"
   ]
  }
 ],
 "metadata": {
  "language_info": {
   "name": "python"
  }
 },
 "nbformat": 4,
 "nbformat_minor": 5
}
