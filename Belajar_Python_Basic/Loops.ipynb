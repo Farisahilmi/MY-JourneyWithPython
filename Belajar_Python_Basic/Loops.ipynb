{
 "cells": [
  {
   "cell_type": "code",
   "execution_count": null,
   "id": "8fb4663f",
   "metadata": {},
   "outputs": [],
   "source": [
    "#1. for loop\n",
    "#digunakan untuk mengulang sesuatu yang bisa diiterasi (list, string, range, dll)\n",
    "\n",
    "for i in range(5):\n",
    "    print(i)\n",
    "    \n",
    "\n",
    "for char in \"python\":\n",
    "    print(char)"
   ]
  },
  {
   "cell_type": "markdown",
   "id": "da86602a",
   "metadata": {},
   "source": [
    "#Iterasi = pengulangan per elemen dalam data yang bisa diulang\n",
    "\n",
    "# Iterable \n",
    "    Iterable adalah objek yang bisa diulang (iterasi), artinya objek yang bisa kamu gunakan di dalam loop seperti 'for',\n",
    "\n",
    "    ciri cirinya \n",
    "    - memiliki method __iter__()\n",
    "    - menghasilkan iterator ketika dipanggil iter()\n",
    "\n",
    "    contoh iterable:\n",
    "    list, tuple, set, dict, string, range\n",
    "\n",
    "    my_list = [1, 2, 3]\n",
    "    print(iter(my_list))  # <list_iterator object at ...>\n",
    "\n",
    "\n",
    "# Iterator\n",
    "    iterator adalah objek yang melakukan iterasi, yaitu mengeluarkan elemen satu per satu menggunakan next()\n",
    "\n",
    "    ciri cirinya:\n",
    "    - memililki method __iter__() (mengembalikan dirinya sendiri)\n",
    "    - memiliki method __next__() (untuk mendapatkan item berikutnya)\n",
    "    - kalau habis, next() akan menghasilkan 'StopIteration error'\n",
    "\n",
    "    my_list = [1,2,3]\n",
    "    my_iter = iter(my_list)  # mengubah iterable menjadi iterator\n",
    "\n",
    "    print(next(my_iter))    # 1\n",
    "    print(next(my_iter))    # 2\n",
    "    print(next(my_iter))    # 3\n",
    "    print(next(my_iter))    # StopIteration error\n",
    "\n",
    "\n",
    "#   Bedanya Iterable dan Iterator\n",
    "    iterable adalah objek yang bisa di loop, Memiliki __iter__(), bisa diubah menjadi terator dengan iter()\n",
    "\n",
    "    iterator adalah objek yang menghasilkan item dari iterable satu per satu, memiliki __iter__() dan __next__(), langsung pakai next() untuk ambil item berikutnya\n",
    "\n",
    "#   Inti konsepnya\n",
    "    iterable > bisa kamu loop (pakai for, in)\n",
    "    iterator > punya memory posisi sekarang, bisa kamu pakai next()\n",
    "\n",
    "    saat kamu pakai for i in..., python otomatis:\n",
    "    1. panggil iter()\n",
    "    2. ambil item pakai next()\n",
    "    3. berhenti saat StopIteration"
   ]
  },
  {
   "cell_type": "code",
   "execution_count": null,
   "id": "d307d7e2",
   "metadata": {},
   "outputs": [],
   "source": [
    "#2. while loop\n",
    "#selama kondisi bernilai True, loop akan jalan\n",
    "\n",
    "# loop selama count < 5\n",
    "count = 0\n",
    "while count < 5:\n",
    "    print(count)\n",
    "    count += 1\n",
    "    \n",
    "# infinite loop (berhenti pakai break)\n",
    "while True:\n",
    "    print(\"loop jalan terus\")\n",
    "    break # stop paksa"
   ]
  },
  {
   "cell_type": "code",
   "execution_count": null,
   "id": "b6f6aac8",
   "metadata": {},
   "outputs": [],
   "source": [
    "#3. keyword penting dalam loop \n",
    "# - break > menghentikan loop\n",
    "# - continue > skip ke iterasi berikutnya\n",
    "# - else pada loop > dijalankan kalau loop selesai tanpa break\n",
    "\n",
    "#break\n",
    "for i in range(5):\n",
    "    if i == 3:\n",
    "        break\n",
    "    print(i)\n",
    "else:\n",
    "    print(\"selesai tanpa break\") #ini tidak muncul karena ada break\n",
    "    \n",
    "\n",
    "#continue\n",
    "for i in range(5):\n",
    "    if i == 2:\n",
    "        continue\n",
    "    print(i)    # 0 1 3 4 (2 dilewati)\n",
    "\n"
   ]
  },
  {
   "cell_type": "code",
   "execution_count": null,
   "id": "db8d7398",
   "metadata": {},
   "outputs": [],
   "source": [
    "#4. else dalam loop\n",
    "# else akan dijalankan kalau loop selesai tanpa break\n",
    "for i in range(3):\n",
    "    print(i)\n",
    "else:\n",
    "    print(\"loop selesai tanpa break\")\n",
    "\n",
    "# else tidak dijalankan karena break\n",
    "for i in range(3):\n",
    "    print(i)\n",
    "    if i == 1:\n",
    "        break\n",
    "\n",
    "else:\n",
    "    print(\"ini tidak akan muncul\")"
   ]
  },
  {
   "cell_type": "code",
   "execution_count": null,
   "id": "be37abb5",
   "metadata": {},
   "outputs": [],
   "source": [
    "#5. loop berasarang (nested loop)\n",
    "#loop di dalam loop\n",
    "\n",
    "for i in range(3):\n",
    "    for j in range(3):\n",
    "        print(f\"i={i},j={j}\")"
   ]
  },
  {
   "cell_type": "code",
   "execution_count": null,
   "id": "3232c0d0",
   "metadata": {},
   "outputs": [],
   "source": [
    "#6. loop manual pakai terator (cara kerja 'for' di balik layar)\n",
    "numbers = [10,20,30]\n",
    "\n",
    "#buat iterator\n",
    "it = iter(numbers)\n",
    "\n",
    "print(next(it))     # 10\n",
    "print(next(it))     # 20\n",
    "print(next(it))     # 30\n",
    "# print(next(it)) #kalau dipanggil lagi, akan error StopIteration"
   ]
  },
  {
   "cell_type": "code",
   "execution_count": null,
   "id": "40408864",
   "metadata": {},
   "outputs": [],
   "source": [
    "#7. loop dictionary\n",
    "my_dict = {\"a\":1,\"b\":2}\n",
    "\n",
    "# loop key\n",
    "for key in my_dict:\n",
    "    print(key)\n",
    "    \n",
    "\n",
    "# loop key & value\n",
    "for key, value in my_dict.items():\n",
    "    print(f\"{key} = {value}\")"
   ]
  },
  {
   "cell_type": "code",
   "execution_count": null,
   "id": "6de86a8d",
   "metadata": {},
   "outputs": [],
   "source": [
    "# Fungsi Range(Start, Stop, Step):\n",
    "\n",
    "#Range(1,6) #1,2,3,4,5\n",
    "#Range(0,10,2) #0.2.4.6.8\n",
    "#Range(5,0,-1) #5,4,3,2,1"
   ]
  }
 ],
 "metadata": {
  "kernelspec": {
   "display_name": "Python 3",
   "language": "python",
   "name": "python3"
  },
  "language_info": {
   "codemirror_mode": {
    "name": "ipython",
    "version": 3
   },
   "file_extension": ".py",
   "mimetype": "text/x-python",
   "name": "python",
   "nbconvert_exporter": "python",
   "pygments_lexer": "ipython3",
   "version": "3.13.1"
  }
 },
 "nbformat": 4,
 "nbformat_minor": 5
}
