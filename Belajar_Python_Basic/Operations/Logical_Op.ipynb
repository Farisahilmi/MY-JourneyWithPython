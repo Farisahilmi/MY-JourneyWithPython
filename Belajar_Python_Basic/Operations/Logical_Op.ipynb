{
 "cells": [
  {
   "cell_type": "code",
   "execution_count": null,
   "id": "3bc2dfe5",
   "metadata": {},
   "outputs": [],
   "source": [
    "#operator logika\n",
    "a = 2\n",
    "b = 2\n",
    "\n",
    "c = a and b #True\n",
    "d = a or b #True\n",
    "e = not a #False\n",
    "\n",
    "print(c)\n",
    "print(d)\n",
    "print(e)"
   ]
  }
 ],
 "metadata": {
  "language_info": {
   "name": "python"
  }
 },
 "nbformat": 4,
 "nbformat_minor": 5
}
