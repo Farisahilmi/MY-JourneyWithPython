{
 "cells": [
  {
   "cell_type": "code",
   "execution_count": null,
   "id": "b2f5a1b1",
   "metadata": {},
   "outputs": [],
   "source": [
    "#operator penugasan (assignment)\n",
    "\n",
    "a = 5 \n",
    "\n",
    "a += 2 #7\n",
    "a -= 2 #3\n",
    "a *= 2 #10\n",
    "a /= 2 #2.5\n",
    "a //= 2 #2\n",
    "a %= 2 #1\n",
    "a **= 2"
   ]
  },
  {
   "cell_type": "markdown",
   "id": "f75bcbb2",
   "metadata": {},
   "source": [
    "\"\"\"*Urutan operator penugasan*\n",
    "1.operator penugasan itu sendiri tidak memiliki urutan prioritas yang lebih tinggi dalam kelompoknya\n",
    "2.mereka hanya dieksekusi dalam urutan kiri ke kanan setelah operator lainnya\"\"\""
   ]
  }
 ],
 "metadata": {
  "language_info": {
   "name": "python"
  }
 },
 "nbformat": 4,
 "nbformat_minor": 5
}
