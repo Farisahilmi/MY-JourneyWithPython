{
 "cells": [
  {
   "cell_type": "code",
   "execution_count": null,
   "id": "f54aa1a5",
   "metadata": {},
   "outputs": [],
   "source": [
    "#operasi identitas\n",
    "a = 1\n",
    "\n",
    "b = 1 is a\n",
    "c = 1 is not a\n",
    "\n",
    "z = [1,2,4]\n",
    "\n",
    "x = 5 is not z\n",
    "\n",
    "print(x)"
   ]
  }
 ],
 "metadata": {
  "language_info": {
   "name": "python"
  }
 },
 "nbformat": 4,
 "nbformat_minor": 5
}
