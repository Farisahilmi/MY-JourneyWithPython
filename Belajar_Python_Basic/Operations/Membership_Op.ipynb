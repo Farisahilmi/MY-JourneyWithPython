{
 "cells": [
  {
   "cell_type": "markdown",
   "id": "7f646dbe",
   "metadata": {},
   "source": [
    "Membership Operator di python itu digunakan untuk Mengecek apakah sebuah nilai ada atau tidak di dalam sebuah koleksi (seperti list, tuple, set, string, dict, dll)\n",
    "\n",
    "Jenis Membership Operator di python \n",
    "operator 'in', True jika nilai ada di dalam koleksi \n",
    "contoh 3 in [1,2,3,4] hasil nya True\n",
    "\n",
    "operator 'not in' True jika nilai tidak ada di koleksi\n",
    "contoh 5 not in [1,2,3,4] hasil nya True"
   ]
  },
  {
   "cell_type": "code",
   "execution_count": null,
   "id": "183115ae",
   "metadata": {},
   "outputs": [],
   "source": [
    "#list\n",
    "angka = [1,2,3,4,5]\n",
    "print(3 in angka)       # True\n",
    "print(6 not in angka)   # True"
   ]
  },
  {
   "cell_type": "code",
   "execution_count": null,
   "id": "e26cb4cc",
   "metadata": {},
   "outputs": [],
   "source": [
    "#String\n",
    "Teks = \"python\"\n",
    "print(\"p\" in Teks)      # True\n",
    "print(\"x\" not in Teks)  # True"
   ]
  },
  {
   "cell_type": "code",
   "execution_count": null,
   "id": "e74a1b17",
   "metadata": {},
   "outputs": [],
   "source": [
    "#Tuple\n",
    "tup = (10,20,30)\n",
    "print(20 in tup)    # True"
   ]
  },
  {
   "cell_type": "code",
   "execution_count": null,
   "id": "84c01940",
   "metadata": {},
   "outputs": [],
   "source": [
    "#Set\n",
    "set_angka = {1,2,3}\n",
    "print(4 in set_angka)   # False"
   ]
  },
  {
   "cell_type": "code",
   "execution_count": null,
   "id": "999ddbbf",
   "metadata": {},
   "outputs": [],
   "source": [
    "#Dictionary (hanya cek key)\n",
    "data = {\"a\":1, \"b\":2}\n",
    "print(\"a\" in data)      # True\n",
    "print(1 in data)        # False #karena yang dicek key, bukan value"
   ]
  },
  {
   "cell_type": "markdown",
   "id": "8c1c06c6",
   "metadata": {},
   "source": [
    "Catatan penting:\n",
    "Di dictionary, membership operator hanya mengecek di key, bukan value.\n",
    "\n",
    "Membership operator sangat berguna di kondisi (if statement) dan looping."
   ]
  }
 ],
 "metadata": {
  "kernelspec": {
   "display_name": "Python 3",
   "language": "python",
   "name": "python3"
  },
  "language_info": {
   "name": "python",
   "version": "3.13.1"
  }
 },
 "nbformat": 4,
 "nbformat_minor": 5
}
