{
 "cells": [
  {
   "cell_type": "code",
   "execution_count": null,
   "id": "304aa931",
   "metadata": {},
   "outputs": [],
   "source": [
    "#operator aritmatika\n",
    "a = 1 + 2 #tambah\n",
    "b = 2 - 3 #kurang\n",
    "c = 2 * 2 #kali\n",
    "d = 12 / 3 #hasil bagi desimal\n",
    "e = 12 // 3 #hasil bagi bulat\n",
    "f = 11 % 3 #modulus\n",
    "g = 2 ** 2 #pangkat"
   ]
  },
  {
   "cell_type": "markdown",
   "id": "06ac5905",
   "metadata": {},
   "source": [
    "\"\"\"*Urutan operator aritmatika (dari yang pertama dieksekusi)*\n",
    "1.tanda kurung / dalam kurung = ()\n",
    "2.pangkat = **\n",
    "3.perkalian, pembagian, pembagian bulat, dan modulo = *, /, //, %\n",
    "4.penjumlahan dan pengurangan = +,-\"\"\""
   ]
  }
 ],
 "metadata": {
  "language_info": {
   "name": "python"
  }
 },
 "nbformat": 4,
 "nbformat_minor": 5
}
