{
 "cells": [
  {
   "cell_type": "code",
   "execution_count": null,
   "id": "deca1ce9",
   "metadata": {},
   "outputs": [],
   "source": [
    "#Operator Perbandingan (relasional)\n",
    "#membandingkan dua nilai\n",
    "\n",
    "a = 1 == 1 #sama dengan\n",
    "b = 1 != 2 #tidak sama dengan\n",
    "c = 1 > 2 #lebih besar\n",
    "d = 1 < 2 #lebih kecil\n",
    "e = 1 >= 2 #lebih besar atau sama dengan\n",
    "f = 1 <= 2 #lebih kecil atau sama dengan"
   ]
  },
  {
   "cell_type": "markdown",
   "id": "a58f27da",
   "metadata": {},
   "source": [
    "Urutan operator perbandingan\n",
    "1.semua operator perbandingan memiliki prioritas yang sama\n",
    "2.jika ada lebih dari satu operator perbandingan, mereka dievaluasi dari kiri ke kanan, tidak ada operator yang diprioritaskan lebih dulu \n",
    "3.namun, kita bisa menggunakan tandan kurung () untuk mengatur urutan eksekusi jika diperlukan"
   ]
  }
 ],
 "metadata": {
  "language_info": {
   "name": "python"
  }
 },
 "nbformat": 4,
 "nbformat_minor": 5
}
