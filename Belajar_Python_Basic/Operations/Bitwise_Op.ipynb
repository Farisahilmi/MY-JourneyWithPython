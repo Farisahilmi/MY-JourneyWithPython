{
 "cells": [
  {
   "cell_type": "markdown",
   "id": "74b533e9",
   "metadata": {},
   "source": [
    "Penjelasan singkat:\n",
    "AND (&): Hanya 1 jika kedua bit 1.\n",
    "\n",
    "OR (|): 1 jika salah satu bit 1.\n",
    "\n",
    "XOR (^): 1 jika hanya salah satu yang 1 (tidak sama).\n",
    "\n",
    "NOT (~): Membalik semua bit (hati-hati, hasilnya bisa negatif di Python karena format signed integer).\n",
    "\n",
    "Left Shift (<<): Menggeser bit ke kiri, sama dengan mengalikan dengan 2^n.\n",
    "\n",
    "Right Shift (>>): Menggeser bit ke kanan, sama dengan membagi dengan 2^n (pembagian bilangan bulat)."
   ]
  },
  {
   "cell_type": "code",
   "execution_count": null,
   "id": "db899169",
   "metadata": {},
   "outputs": [],
   "source": [
    "#bitwise operator\n",
    "\n",
    "a = 5 #0101\n",
    "b = 3 #0011\n",
    "\n",
    "a1 = a & b  # 1\n",
    "b1 = a | b  # 7\n",
    "c1 = a ^ b  # 6\n",
    "d1 = ~a     # -6\n",
    "e1 = a << 1 # 10\n",
    "f1 = a >> 1 # 2\n",
    "\n",
    "print(b1)\n"
   ]
  }
 ],
 "metadata": {
  "kernelspec": {
   "display_name": "Python 3",
   "language": "python",
   "name": "python3"
  },
  "language_info": {
   "codemirror_mode": {
    "name": "ipython",
    "version": 3
   },
   "file_extension": ".py",
   "mimetype": "text/x-python",
   "name": "python",
   "nbconvert_exporter": "python",
   "pygments_lexer": "ipython3",
   "version": "3.13.1"
  }
 },
 "nbformat": 4,
 "nbformat_minor": 5
}
