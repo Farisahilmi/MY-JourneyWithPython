{
 "cells": [
  {
   "cell_type": "markdown",
   "id": "690625a8",
   "metadata": {},
   "source": [
    "1.basic syntax python\n",
    "\n",
    "karakteristik umum:\n",
    "tidak pakai tanda kurung kurawal {}\n",
    "indentasi (spasi/tab) sangat penting\n",
    "baris di awali dari kiri, dan blok kode dibuat dengan indentasi\n"
   ]
  },
  {
   "cell_type": "code",
   "execution_count": null,
   "id": "5aeed828",
   "metadata": {},
   "outputs": [],
   "source": [
    "#isi komentar\n",
    "print(\"hello world\") # cetak teks ke layar\n",
    "\n",
    "if True:\n",
    "    print(\"ini benar\") # indentasi penting"
   ]
  },
  {
   "cell_type": "markdown",
   "id": "2f543790",
   "metadata": {},
   "source": [
    "hal - hal dasar lainnya:\n",
    "statement diakhiri tanpa titik koma (;)\n",
    "gunakan # untuk komentar 1 baris\n",
    "bisa pakai \"\"\" <isi komentar> \"\"\" untuk komentar banyak baris (juga string panjang)"
   ]
  }
 ],
 "metadata": {
  "kernelspec": {
   "display_name": "Python 3",
   "language": "python",
   "name": "python3"
  },
  "language_info": {
   "name": "python",
   "version": "3.13.1"
  }
 },
 "nbformat": 4,
 "nbformat_minor": 5
}
