{
 "cells": [
  {
   "cell_type": "code",
   "execution_count": 7,
   "id": "cbc93aa1",
   "metadata": {},
   "outputs": [
    {
     "name": "stdout",
     "output_type": "stream",
     "text": [
      "index tidak ada di dalam list!\n"
     ]
    }
   ],
   "source": [
    "try:\n",
    "    data = [1,2,3,\"kami\"]\n",
    "    print(data[10])\n",
    "except IndexError:\n",
    "    print(\"index tidak ada di dalam list!\")\n"
   ]
  }
 ],
 "metadata": {
  "kernelspec": {
   "display_name": "Python 3",
   "language": "python",
   "name": "python3"
  },
  "language_info": {
   "codemirror_mode": {
    "name": "ipython",
    "version": 3
   },
   "file_extension": ".py",
   "mimetype": "text/x-python",
   "name": "python",
   "nbconvert_exporter": "python",
   "pygments_lexer": "ipython3",
   "version": "3.13.1"
  }
 },
 "nbformat": 4,
 "nbformat_minor": 5
}
