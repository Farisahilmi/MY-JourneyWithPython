{
 "cells": [
  {
   "cell_type": "code",
   "execution_count": 1,
   "id": "8417a1e3",
   "metadata": {},
   "outputs": [
    {
     "name": "stdout",
     "output_type": "stream",
     "text": [
      "tipe data ini tidak punya method itu\n"
     ]
    }
   ],
   "source": [
    "try:\n",
    "    angka = 10\n",
    "    angka.append(5)\n",
    "except AttributeError:\n",
    "    print(\"tipe data ini tidak punya method itu\")"
   ]
  }
 ],
 "metadata": {
  "kernelspec": {
   "display_name": "Python 3",
   "language": "python",
   "name": "python3"
  },
  "language_info": {
   "codemirror_mode": {
    "name": "ipython",
    "version": 3
   },
   "file_extension": ".py",
   "mimetype": "text/x-python",
   "name": "python",
   "nbconvert_exporter": "python",
   "pygments_lexer": "ipython3",
   "version": "3.13.1"
  }
 },
 "nbformat": 4,
 "nbformat_minor": 5
}
