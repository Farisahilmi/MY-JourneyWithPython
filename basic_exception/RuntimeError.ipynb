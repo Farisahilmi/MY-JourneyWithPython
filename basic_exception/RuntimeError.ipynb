{
 "cells": [
  {
   "cell_type": "code",
   "execution_count": null,
   "id": "6e810e93",
   "metadata": {},
   "outputs": [],
   "source": [
    "def panggil_diri():\n",
    "    return panggil_diri\n",
    "\n",
    "try:\n",
    "    panggil_diri()\n",
    "except RuntimeError:\n",
    "    print(\"kesalahan runtime terjadi!\")"
   ]
  }
 ],
 "metadata": {
  "language_info": {
   "name": "python"
  }
 },
 "nbformat": 4,
 "nbformat_minor": 5
}
