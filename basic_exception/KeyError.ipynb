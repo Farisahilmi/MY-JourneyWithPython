{
 "cells": [
  {
   "cell_type": "code",
   "execution_count": 2,
   "id": "25a99537",
   "metadata": {},
   "outputs": [
    {
     "name": "stdout",
     "output_type": "stream",
     "text": [
      "faris\n"
     ]
    }
   ],
   "source": [
    "try:\n",
    "    data = {\"nama\":\"faris\"}\n",
    "    print(data[\"nama\"])\n",
    "except KeyError:\n",
    "    print(\"key tidak ditemukan dalam dictionary!\")"
   ]
  }
 ],
 "metadata": {
  "kernelspec": {
   "display_name": "Python 3",
   "language": "python",
   "name": "python3"
  },
  "language_info": {
   "codemirror_mode": {
    "name": "ipython",
    "version": 3
   },
   "file_extension": ".py",
   "mimetype": "text/x-python",
   "name": "python",
   "nbconvert_exporter": "python",
   "pygments_lexer": "ipython3",
   "version": "3.13.1"
  }
 },
 "nbformat": 4,
 "nbformat_minor": 5
}
