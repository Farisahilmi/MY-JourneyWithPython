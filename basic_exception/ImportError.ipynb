{
 "cells": [
  {
   "cell_type": "code",
   "execution_count": null,
   "id": "e5574aea",
   "metadata": {},
   "outputs": [],
   "source": [
    "try:\n",
    "    import modul_tidak_ada\n",
    "except ImportError:\n",
    "    print(\"modul tidak bisa diimport\")"
   ]
  }
 ],
 "metadata": {
  "language_info": {
   "name": "python"
  }
 },
 "nbformat": 4,
 "nbformat_minor": 5
}
