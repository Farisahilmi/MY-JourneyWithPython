{
 "cells": [
  {
   "cell_type": "code",
   "execution_count": null,
   "id": "8b11fc56",
   "metadata": {},
   "outputs": [],
   "source": [
    "try:\n",
    "    with open(\"file_tidak_ada.txt\", \"r\") as f:\n",
    "        print(f.read())\n",
    "except FileNotFoundError:\n",
    "    print(\"file tidak ditemukan\")"
   ]
  }
 ],
 "metadata": {
  "language_info": {
   "name": "python"
  }
 },
 "nbformat": 4,
 "nbformat_minor": 5
}
